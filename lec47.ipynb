{
 "cells": [
  {
   "cell_type": "markdown",
   "metadata": {},
   "source": [
    "SeabornのWebサイト http://stanford.edu/~mwaskom/software/seaborn/installing.html\n",
    "\n",
    "pipが設定されていれば、 pip install seaborn でも可能です。\n",
    "\n",
    "https://www.continuum.io/downloads Anacondaの利用が便利"
   ]
  },
  {
   "cell_type": "code",
   "execution_count": null,
   "metadata": {
    "collapsed": true
   },
   "outputs": [],
   "source": []
  }
 ],
 "metadata": {
  "kernelspec": {
   "display_name": "Python 3",
   "language": "python",
   "name": "python3"
  },
  "language_info": {
   "codemirror_mode": {
    "name": "ipython",
    "version": 3
   },
   "file_extension": ".py",
   "mimetype": "text/x-python",
   "name": "python",
   "nbconvert_exporter": "python",
   "pygments_lexer": "ipython3",
   "version": "3.6.0"
  }
 },
 "nbformat": 4,
 "nbformat_minor": 2
}
