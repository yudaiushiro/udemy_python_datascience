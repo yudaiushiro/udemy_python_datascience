{
 "cells": [
  {
   "cell_type": "code",
   "execution_count": 1,
   "metadata": {
    "collapsed": true
   },
   "outputs": [],
   "source": [
    "import numpy as np\n",
    "from pandas import Series, DataFrame\n",
    "import pandas as pd\n",
    "from numpy.random import randn"
   ]
  },
  {
   "cell_type": "code",
   "execution_count": 2,
   "metadata": {
    "collapsed": true
   },
   "outputs": [],
   "source": [
    "ser1 = Series([1,2,3,4],index=['A','B','C','D'])"
   ]
  },
  {
   "cell_type": "code",
   "execution_count": 3,
   "metadata": {
    "collapsed": false
   },
   "outputs": [
    {
     "data": {
      "text/plain": [
       "A    1\n",
       "B    2\n",
       "C    3\n",
       "D    4\n",
       "dtype: int64"
      ]
     },
     "execution_count": 3,
     "metadata": {},
     "output_type": "execute_result"
    }
   ],
   "source": [
    "ser1"
   ]
  },
  {
   "cell_type": "code",
   "execution_count": 4,
   "metadata": {
    "collapsed": true
   },
   "outputs": [],
   "source": [
    "ser2 = ser1.reindex(['A','B','C','D','E','F'])"
   ]
  },
  {
   "cell_type": "code",
   "execution_count": 5,
   "metadata": {
    "collapsed": false
   },
   "outputs": [
    {
     "data": {
      "text/plain": [
       "A    1.0\n",
       "B    2.0\n",
       "C    3.0\n",
       "D    4.0\n",
       "E    NaN\n",
       "F    NaN\n",
       "dtype: float64"
      ]
     },
     "execution_count": 5,
     "metadata": {},
     "output_type": "execute_result"
    }
   ],
   "source": [
    "ser2"
   ]
  },
  {
   "cell_type": "code",
   "execution_count": 7,
   "metadata": {
    "collapsed": false
   },
   "outputs": [
    {
     "data": {
      "text/plain": [
       "A    1.0\n",
       "B    2.0\n",
       "C    3.0\n",
       "D    4.0\n",
       "E    NaN\n",
       "F    NaN\n",
       "G    0.0\n",
       "dtype: float64"
      ]
     },
     "execution_count": 7,
     "metadata": {},
     "output_type": "execute_result"
    }
   ],
   "source": [
    "ser2.reindex(['A','B','C','D','E','F','G'],fill_value=0)"
   ]
  },
  {
   "cell_type": "code",
   "execution_count": 9,
   "metadata": {
    "collapsed": false
   },
   "outputs": [
    {
     "data": {
      "text/plain": [
       "0        USA\n",
       "5     Mexico\n",
       "10    Canada\n",
       "dtype: object"
      ]
     },
     "execution_count": 9,
     "metadata": {},
     "output_type": "execute_result"
    }
   ],
   "source": [
    "ser3 = Series(['USA','Mexico','Canada'],index=[0,5,10])\n",
    "\n",
    "ser3"
   ]
  },
  {
   "cell_type": "code",
   "execution_count": 11,
   "metadata": {
    "collapsed": false
   },
   "outputs": [
    {
     "data": {
      "text/plain": [
       "0        USA\n",
       "1        USA\n",
       "2        USA\n",
       "3        USA\n",
       "4        USA\n",
       "5     Mexico\n",
       "6     Mexico\n",
       "7     Mexico\n",
       "8     Mexico\n",
       "9     Mexico\n",
       "10    Canada\n",
       "11    Canada\n",
       "12    Canada\n",
       "13    Canada\n",
       "14    Canada\n",
       "dtype: object"
      ]
     },
     "execution_count": 11,
     "metadata": {},
     "output_type": "execute_result"
    }
   ],
   "source": [
    "ser3.reindex(range(15),method='ffill')"
   ]
  },
  {
   "cell_type": "code",
   "execution_count": 16,
   "metadata": {
    "collapsed": false
   },
   "outputs": [
    {
     "data": {
      "text/html": [
       "<div>\n",
       "<table border=\"1\" class=\"dataframe\">\n",
       "  <thead>\n",
       "    <tr style=\"text-align: right;\">\n",
       "      <th></th>\n",
       "      <th>col1</th>\n",
       "      <th>col2</th>\n",
       "      <th>col3</th>\n",
       "      <th>col4</th>\n",
       "      <th>col5</th>\n",
       "    </tr>\n",
       "  </thead>\n",
       "  <tbody>\n",
       "    <tr>\n",
       "      <th>A</th>\n",
       "      <td>0.887484</td>\n",
       "      <td>-0.441239</td>\n",
       "      <td>0.486735</td>\n",
       "      <td>-0.106796</td>\n",
       "      <td>0.686348</td>\n",
       "    </tr>\n",
       "    <tr>\n",
       "      <th>B</th>\n",
       "      <td>1.003182</td>\n",
       "      <td>-1.402193</td>\n",
       "      <td>-0.783864</td>\n",
       "      <td>1.094309</td>\n",
       "      <td>1.235271</td>\n",
       "    </tr>\n",
       "    <tr>\n",
       "      <th>D</th>\n",
       "      <td>-0.403259</td>\n",
       "      <td>0.858421</td>\n",
       "      <td>1.112258</td>\n",
       "      <td>-0.094263</td>\n",
       "      <td>0.422065</td>\n",
       "    </tr>\n",
       "    <tr>\n",
       "      <th>E</th>\n",
       "      <td>-1.748742</td>\n",
       "      <td>0.481235</td>\n",
       "      <td>0.768823</td>\n",
       "      <td>-0.646783</td>\n",
       "      <td>0.699921</td>\n",
       "    </tr>\n",
       "    <tr>\n",
       "      <th>F</th>\n",
       "      <td>0.564962</td>\n",
       "      <td>2.013003</td>\n",
       "      <td>0.105780</td>\n",
       "      <td>-0.707930</td>\n",
       "      <td>-0.053025</td>\n",
       "    </tr>\n",
       "  </tbody>\n",
       "</table>\n",
       "</div>"
      ],
      "text/plain": [
       "       col1      col2      col3      col4      col5\n",
       "A  0.887484 -0.441239  0.486735 -0.106796  0.686348\n",
       "B  1.003182 -1.402193 -0.783864  1.094309  1.235271\n",
       "D -0.403259  0.858421  1.112258 -0.094263  0.422065\n",
       "E -1.748742  0.481235  0.768823 -0.646783  0.699921\n",
       "F  0.564962  2.013003  0.105780 -0.707930 -0.053025"
      ]
     },
     "execution_count": 16,
     "metadata": {},
     "output_type": "execute_result"
    }
   ],
   "source": [
    "dframe = DataFrame(randn(25).reshape((5,5)),index=\n",
    "['A','B','D','E','F'],columns=['col1','col2','col3','col4','col5'])\n",
    "dframe"
   ]
  },
  {
   "cell_type": "code",
   "execution_count": 15,
   "metadata": {
    "collapsed": false
   },
   "outputs": [
    {
     "data": {
      "text/html": [
       "<div>\n",
       "<table border=\"1\" class=\"dataframe\">\n",
       "  <thead>\n",
       "    <tr style=\"text-align: right;\">\n",
       "      <th></th>\n",
       "      <th>col1</th>\n",
       "      <th>col2</th>\n",
       "      <th>col3</th>\n",
       "      <th>col4</th>\n",
       "      <th>col5</th>\n",
       "    </tr>\n",
       "  </thead>\n",
       "  <tbody>\n",
       "    <tr>\n",
       "      <th>A</th>\n",
       "      <td>1.119778</td>\n",
       "      <td>-0.106050</td>\n",
       "      <td>1.199315</td>\n",
       "      <td>2.131521</td>\n",
       "      <td>0.272475</td>\n",
       "    </tr>\n",
       "    <tr>\n",
       "      <th>B</th>\n",
       "      <td>-0.065856</td>\n",
       "      <td>-0.035019</td>\n",
       "      <td>-0.188700</td>\n",
       "      <td>-1.351028</td>\n",
       "      <td>1.256816</td>\n",
       "    </tr>\n",
       "    <tr>\n",
       "      <th>C</th>\n",
       "      <td>NaN</td>\n",
       "      <td>NaN</td>\n",
       "      <td>NaN</td>\n",
       "      <td>NaN</td>\n",
       "      <td>NaN</td>\n",
       "    </tr>\n",
       "    <tr>\n",
       "      <th>D</th>\n",
       "      <td>-0.335058</td>\n",
       "      <td>0.938288</td>\n",
       "      <td>0.589602</td>\n",
       "      <td>-0.820565</td>\n",
       "      <td>0.772779</td>\n",
       "    </tr>\n",
       "    <tr>\n",
       "      <th>E</th>\n",
       "      <td>0.369153</td>\n",
       "      <td>1.953803</td>\n",
       "      <td>0.579110</td>\n",
       "      <td>-1.265515</td>\n",
       "      <td>-0.186498</td>\n",
       "    </tr>\n",
       "    <tr>\n",
       "      <th>F</th>\n",
       "      <td>0.026544</td>\n",
       "      <td>2.498259</td>\n",
       "      <td>0.828809</td>\n",
       "      <td>-1.468951</td>\n",
       "      <td>-1.239055</td>\n",
       "    </tr>\n",
       "  </tbody>\n",
       "</table>\n",
       "</div>"
      ],
      "text/plain": [
       "       col1      col2      col3      col4      col5\n",
       "A  1.119778 -0.106050  1.199315  2.131521  0.272475\n",
       "B -0.065856 -0.035019 -0.188700 -1.351028  1.256816\n",
       "C       NaN       NaN       NaN       NaN       NaN\n",
       "D -0.335058  0.938288  0.589602 -0.820565  0.772779\n",
       "E  0.369153  1.953803  0.579110 -1.265515 -0.186498\n",
       "F  0.026544  2.498259  0.828809 -1.468951 -1.239055"
      ]
     },
     "execution_count": 15,
     "metadata": {},
     "output_type": "execute_result"
    }
   ],
   "source": [
    "new_index = ['A','B','C','D','E','F']\n",
    "dframe2 = dframe.reindex(new_index)\n",
    "dframe2"
   ]
  },
  {
   "cell_type": "code",
   "execution_count": 17,
   "metadata": {
    "collapsed": false
   },
   "outputs": [
    {
     "data": {
      "text/html": [
       "<div>\n",
       "<table border=\"1\" class=\"dataframe\">\n",
       "  <thead>\n",
       "    <tr style=\"text-align: right;\">\n",
       "      <th></th>\n",
       "      <th>col1</th>\n",
       "      <th>col2</th>\n",
       "      <th>col3</th>\n",
       "      <th>col4</th>\n",
       "      <th>col5</th>\n",
       "      <th>col6</th>\n",
       "    </tr>\n",
       "  </thead>\n",
       "  <tbody>\n",
       "    <tr>\n",
       "      <th>A</th>\n",
       "      <td>1.119778</td>\n",
       "      <td>-0.106050</td>\n",
       "      <td>1.199315</td>\n",
       "      <td>2.131521</td>\n",
       "      <td>0.272475</td>\n",
       "      <td>NaN</td>\n",
       "    </tr>\n",
       "    <tr>\n",
       "      <th>B</th>\n",
       "      <td>-0.065856</td>\n",
       "      <td>-0.035019</td>\n",
       "      <td>-0.188700</td>\n",
       "      <td>-1.351028</td>\n",
       "      <td>1.256816</td>\n",
       "      <td>NaN</td>\n",
       "    </tr>\n",
       "    <tr>\n",
       "      <th>C</th>\n",
       "      <td>NaN</td>\n",
       "      <td>NaN</td>\n",
       "      <td>NaN</td>\n",
       "      <td>NaN</td>\n",
       "      <td>NaN</td>\n",
       "      <td>NaN</td>\n",
       "    </tr>\n",
       "    <tr>\n",
       "      <th>D</th>\n",
       "      <td>-0.335058</td>\n",
       "      <td>0.938288</td>\n",
       "      <td>0.589602</td>\n",
       "      <td>-0.820565</td>\n",
       "      <td>0.772779</td>\n",
       "      <td>NaN</td>\n",
       "    </tr>\n",
       "    <tr>\n",
       "      <th>E</th>\n",
       "      <td>0.369153</td>\n",
       "      <td>1.953803</td>\n",
       "      <td>0.579110</td>\n",
       "      <td>-1.265515</td>\n",
       "      <td>-0.186498</td>\n",
       "      <td>NaN</td>\n",
       "    </tr>\n",
       "    <tr>\n",
       "      <th>F</th>\n",
       "      <td>0.026544</td>\n",
       "      <td>2.498259</td>\n",
       "      <td>0.828809</td>\n",
       "      <td>-1.468951</td>\n",
       "      <td>-1.239055</td>\n",
       "      <td>NaN</td>\n",
       "    </tr>\n",
       "  </tbody>\n",
       "</table>\n",
       "</div>"
      ],
      "text/plain": [
       "       col1      col2      col3      col4      col5  col6\n",
       "A  1.119778 -0.106050  1.199315  2.131521  0.272475   NaN\n",
       "B -0.065856 -0.035019 -0.188700 -1.351028  1.256816   NaN\n",
       "C       NaN       NaN       NaN       NaN       NaN   NaN\n",
       "D -0.335058  0.938288  0.589602 -0.820565  0.772779   NaN\n",
       "E  0.369153  1.953803  0.579110 -1.265515 -0.186498   NaN\n",
       "F  0.026544  2.498259  0.828809 -1.468951 -1.239055   NaN"
      ]
     },
     "execution_count": 17,
     "metadata": {},
     "output_type": "execute_result"
    }
   ],
   "source": [
    "new_columns = ['col1','col2','col3','col4','col5','col6']\n",
    "\n",
    "dframe2.reindex(columns=new_columns)"
   ]
  },
  {
   "cell_type": "code",
   "execution_count": 18,
   "metadata": {
    "collapsed": false
   },
   "outputs": [
    {
     "data": {
      "text/html": [
       "<div>\n",
       "<table border=\"1\" class=\"dataframe\">\n",
       "  <thead>\n",
       "    <tr style=\"text-align: right;\">\n",
       "      <th></th>\n",
       "      <th>col1</th>\n",
       "      <th>col2</th>\n",
       "      <th>col3</th>\n",
       "      <th>col4</th>\n",
       "      <th>col5</th>\n",
       "    </tr>\n",
       "  </thead>\n",
       "  <tbody>\n",
       "    <tr>\n",
       "      <th>A</th>\n",
       "      <td>0.887484</td>\n",
       "      <td>-0.441239</td>\n",
       "      <td>0.486735</td>\n",
       "      <td>-0.106796</td>\n",
       "      <td>0.686348</td>\n",
       "    </tr>\n",
       "    <tr>\n",
       "      <th>B</th>\n",
       "      <td>1.003182</td>\n",
       "      <td>-1.402193</td>\n",
       "      <td>-0.783864</td>\n",
       "      <td>1.094309</td>\n",
       "      <td>1.235271</td>\n",
       "    </tr>\n",
       "    <tr>\n",
       "      <th>D</th>\n",
       "      <td>-0.403259</td>\n",
       "      <td>0.858421</td>\n",
       "      <td>1.112258</td>\n",
       "      <td>-0.094263</td>\n",
       "      <td>0.422065</td>\n",
       "    </tr>\n",
       "    <tr>\n",
       "      <th>E</th>\n",
       "      <td>-1.748742</td>\n",
       "      <td>0.481235</td>\n",
       "      <td>0.768823</td>\n",
       "      <td>-0.646783</td>\n",
       "      <td>0.699921</td>\n",
       "    </tr>\n",
       "    <tr>\n",
       "      <th>F</th>\n",
       "      <td>0.564962</td>\n",
       "      <td>2.013003</td>\n",
       "      <td>0.105780</td>\n",
       "      <td>-0.707930</td>\n",
       "      <td>-0.053025</td>\n",
       "    </tr>\n",
       "  </tbody>\n",
       "</table>\n",
       "</div>"
      ],
      "text/plain": [
       "       col1      col2      col3      col4      col5\n",
       "A  0.887484 -0.441239  0.486735 -0.106796  0.686348\n",
       "B  1.003182 -1.402193 -0.783864  1.094309  1.235271\n",
       "D -0.403259  0.858421  1.112258 -0.094263  0.422065\n",
       "E -1.748742  0.481235  0.768823 -0.646783  0.699921\n",
       "F  0.564962  2.013003  0.105780 -0.707930 -0.053025"
      ]
     },
     "execution_count": 18,
     "metadata": {},
     "output_type": "execute_result"
    }
   ],
   "source": [
    "dframe"
   ]
  },
  {
   "cell_type": "code",
   "execution_count": 19,
   "metadata": {
    "collapsed": false
   },
   "outputs": [
    {
     "data": {
      "text/html": [
       "<div>\n",
       "<table border=\"1\" class=\"dataframe\">\n",
       "  <thead>\n",
       "    <tr style=\"text-align: right;\">\n",
       "      <th></th>\n",
       "      <th>col1</th>\n",
       "      <th>col2</th>\n",
       "      <th>col3</th>\n",
       "      <th>col4</th>\n",
       "      <th>col5</th>\n",
       "      <th>col6</th>\n",
       "    </tr>\n",
       "  </thead>\n",
       "  <tbody>\n",
       "    <tr>\n",
       "      <th>A</th>\n",
       "      <td>0.887484</td>\n",
       "      <td>-0.441239</td>\n",
       "      <td>0.486735</td>\n",
       "      <td>-0.106796</td>\n",
       "      <td>0.686348</td>\n",
       "      <td>NaN</td>\n",
       "    </tr>\n",
       "    <tr>\n",
       "      <th>B</th>\n",
       "      <td>1.003182</td>\n",
       "      <td>-1.402193</td>\n",
       "      <td>-0.783864</td>\n",
       "      <td>1.094309</td>\n",
       "      <td>1.235271</td>\n",
       "      <td>NaN</td>\n",
       "    </tr>\n",
       "    <tr>\n",
       "      <th>C</th>\n",
       "      <td>NaN</td>\n",
       "      <td>NaN</td>\n",
       "      <td>NaN</td>\n",
       "      <td>NaN</td>\n",
       "      <td>NaN</td>\n",
       "      <td>NaN</td>\n",
       "    </tr>\n",
       "    <tr>\n",
       "      <th>D</th>\n",
       "      <td>-0.403259</td>\n",
       "      <td>0.858421</td>\n",
       "      <td>1.112258</td>\n",
       "      <td>-0.094263</td>\n",
       "      <td>0.422065</td>\n",
       "      <td>NaN</td>\n",
       "    </tr>\n",
       "    <tr>\n",
       "      <th>E</th>\n",
       "      <td>-1.748742</td>\n",
       "      <td>0.481235</td>\n",
       "      <td>0.768823</td>\n",
       "      <td>-0.646783</td>\n",
       "      <td>0.699921</td>\n",
       "      <td>NaN</td>\n",
       "    </tr>\n",
       "    <tr>\n",
       "      <th>F</th>\n",
       "      <td>0.564962</td>\n",
       "      <td>2.013003</td>\n",
       "      <td>0.105780</td>\n",
       "      <td>-0.707930</td>\n",
       "      <td>-0.053025</td>\n",
       "      <td>NaN</td>\n",
       "    </tr>\n",
       "  </tbody>\n",
       "</table>\n",
       "</div>"
      ],
      "text/plain": [
       "       col1      col2      col3      col4      col5  col6\n",
       "A  0.887484 -0.441239  0.486735 -0.106796  0.686348   NaN\n",
       "B  1.003182 -1.402193 -0.783864  1.094309  1.235271   NaN\n",
       "C       NaN       NaN       NaN       NaN       NaN   NaN\n",
       "D -0.403259  0.858421  1.112258 -0.094263  0.422065   NaN\n",
       "E -1.748742  0.481235  0.768823 -0.646783  0.699921   NaN\n",
       "F  0.564962  2.013003  0.105780 -0.707930 -0.053025   NaN"
      ]
     },
     "execution_count": 19,
     "metadata": {},
     "output_type": "execute_result"
    }
   ],
   "source": [
    "dframe.ix[new_index,new_columns]"
   ]
  },
  {
   "cell_type": "code",
   "execution_count": null,
   "metadata": {
    "collapsed": true
   },
   "outputs": [],
   "source": []
  }
 ],
 "metadata": {
  "kernelspec": {
   "display_name": "Python 3",
   "language": "python",
   "name": "python3"
  },
  "language_info": {
   "codemirror_mode": {
    "name": "ipython",
    "version": 3
   },
   "file_extension": ".py",
   "mimetype": "text/x-python",
   "name": "python",
   "nbconvert_exporter": "python",
   "pygments_lexer": "ipython3",
   "version": "3.6.0"
  }
 },
 "nbformat": 4,
 "nbformat_minor": 2
}
