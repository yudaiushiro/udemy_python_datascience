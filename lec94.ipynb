{
 "cells": [
  {
   "cell_type": "code",
   "execution_count": 4,
   "metadata": {},
   "outputs": [
    {
     "data": {
      "text/plain": [
       "[<matplotlib.lines.Line2D at 0x118bb5ef0>]"
      ]
     },
     "execution_count": 4,
     "metadata": {},
     "output_type": "execute_result"
    },
    {
     "data": {
      "image/png": "[encoded data removed]",
      "text/plain": [
       "<matplotlib.figure.Figure at 0x10ebd1550>"
      ]
     },
     "metadata": {},
     "output_type": "display_data"
    }
   ],
   "source": [
    "import matplotlib as mpl\n",
    "import matplotlib.pyplot as plt\n",
    "import numpy as np\n",
    "%matplotlib inline\n",
    "\n",
    "from scipy import stats\n",
    "\n",
    "mean = 0\n",
    "\n",
    "std = 1\n",
    "\n",
    "X = np.arange(-4, 4, 0.01)\n",
    "\n",
    "Y = stats.norm.pdf(X,mean,std)\n",
    "\n",
    "plt.plot(X,Y)"
   ]
  },
  {
   "cell_type": "code",
   "execution_count": 5,
   "metadata": {},
   "outputs": [],
   "source": [
    "import numpy as np\n",
    "\n",
    "mu,sigma = 0,0.1\n",
    "\n",
    "norm_set = np.random.normal(mu,sigma,1000)"
   ]
  },
  {
   "cell_type": "code",
   "execution_count": 6,
   "metadata": {},
   "outputs": [
    {
     "data": {
      "text/plain": [
       "(array([  1.,   1.,   0.,   3.,   1.,   6.,   5.,  11.,   4.,  12.,  13.,\n",
       "         15.,  13.,  20.,  24.,  28.,  26.,  46.,  49.,  59.,  64.,  49.,\n",
       "         40.,  44.,  74.,  57.,  47.,  55.,  39.,  38.,  36.,  38.,  12.,\n",
       "         16.,  12.,   5.,  12.,   8.,   5.,   5.,   2.,   1.,   2.,   0.,\n",
       "          0.,   1.,   0.,   0.,   0.,   1.]),\n",
       " array([-0.31509861, -0.30155919, -0.28801976, -0.27448033, -0.26094091,\n",
       "        -0.24740148, -0.23386205, -0.22032263, -0.2067832 , -0.19324377,\n",
       "        -0.17970435, -0.16616492, -0.1526255 , -0.13908607, -0.12554664,\n",
       "        -0.11200722, -0.09846779, -0.08492836, -0.07138894, -0.05784951,\n",
       "        -0.04431008, -0.03077066, -0.01723123, -0.0036918 ,  0.00984762,\n",
       "         0.02338705,  0.03692648,  0.0504659 ,  0.06400533,  0.07754476,\n",
       "         0.09108418,  0.10462361,  0.11816304,  0.13170246,  0.14524189,\n",
       "         0.15878132,  0.17232074,  0.18586017,  0.1993996 ,  0.21293902,\n",
       "         0.22647845,  0.24001788,  0.2535573 ,  0.26709673,  0.28063616,\n",
       "         0.29417558,  0.30771501,  0.32125443,  0.33479386,  0.34833329,\n",
       "         0.36187271]),\n",
       " <a list of 50 Patch objects>)"
      ]
     },
     "execution_count": 6,
     "metadata": {},
     "output_type": "execute_result"
    },
    {
     "data": {
      "image/png": "[encoded data removed]",
      "text/plain": [
       "<matplotlib.figure.Figure at 0x11013a390>"
      ]
     },
     "metadata": {},
     "output_type": "display_data"
    }
   ],
   "source": [
    "import seaborn as sns\n",
    "plt.hist(norm_set,bins=50)"
   ]
  },
  {
   "cell_type": "code",
   "execution_count": null,
   "metadata": {},
   "outputs": [],
   "source": []
  }
 ],
 "metadata": {
  "kernelspec": {
   "display_name": "Python 3",
   "language": "python",
   "name": "python3"
  },
  "language_info": {
   "codemirror_mode": {
    "name": "ipython",
    "version": 3
   },
   "file_extension": ".py",
   "mimetype": "text/x-python",
   "name": "python",
   "nbconvert_exporter": "python",
   "pygments_lexer": "ipython3",
   "version": "3.6.3"
  }
 },
 "nbformat": 4,
 "nbformat_minor": 2
}
